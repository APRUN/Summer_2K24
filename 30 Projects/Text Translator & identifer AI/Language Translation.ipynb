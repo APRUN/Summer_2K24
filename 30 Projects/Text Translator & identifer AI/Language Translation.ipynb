{
 "cells": [
  {
   "cell_type": "code",
   "execution_count": 3,
   "id": "326ea5ec-7335-49ff-bf0f-0f1ac5d080f4",
   "metadata": {},
   "outputs": [
    {
     "name": "stdout",
     "output_type": "stream",
     "text": [
      "Collecting ibm_watson\n",
      "  Downloading ibm_watson-8.1.0.tar.gz (400 kB)\n",
      "     ---------------------------------------- 0.0/400.1 kB ? eta -:--:--\n",
      "     - -------------------------------------- 10.2/400.1 kB ? eta -:--:--\n",
      "     - -------------------------------------- 10.2/400.1 kB ? eta -:--:--\n",
      "     - ----------------------------------- 20.5/400.1 kB 131.3 kB/s eta 0:00:03\n",
      "     -- ---------------------------------- 30.7/400.1 kB 146.3 kB/s eta 0:00:03\n",
      "     --- --------------------------------- 41.0/400.1 kB 178.6 kB/s eta 0:00:03\n",
      "     ----- ------------------------------- 61.4/400.1 kB 218.8 kB/s eta 0:00:02\n",
      "     -------- ---------------------------- 92.2/400.1 kB 275.8 kB/s eta 0:00:02\n",
      "     ------------- ---------------------- 153.6/400.1 kB 416.7 kB/s eta 0:00:01\n",
      "     ------------------ ----------------- 204.8/400.1 kB 498.9 kB/s eta 0:00:01\n",
      "     ----------------------- ------------ 256.0/400.1 kB 562.4 kB/s eta 0:00:01\n",
      "     ------------------------- ---------- 286.7/400.1 kB 610.3 kB/s eta 0:00:01\n",
      "     ------------------------------ ----- 337.9/400.1 kB 636.3 kB/s eta 0:00:01\n",
      "     ------------------------------------ 400.1/400.1 kB 693.7 kB/s eta 0:00:00\n",
      "  Installing build dependencies: started\n",
      "  Installing build dependencies: finished with status 'done'\n",
      "  Getting requirements to build wheel: started\n",
      "  Getting requirements to build wheel: finished with status 'done'\n",
      "  Preparing metadata (pyproject.toml): started\n",
      "  Preparing metadata (pyproject.toml): finished with status 'done'\n",
      "Requirement already satisfied: requests<3.0,>=2.0 in c:\\users\\chief oggy\\appdata\\local\\programs\\python\\python312\\lib\\site-packages (from ibm_watson) (2.31.0)\n",
      "Requirement already satisfied: python-dateutil>=2.5.3 in c:\\users\\chief oggy\\appdata\\local\\programs\\python\\python312\\lib\\site-packages (from ibm_watson) (2.8.2)\n",
      "Requirement already satisfied: websocket-client>=1.1.0 in c:\\users\\chief oggy\\appdata\\local\\programs\\python\\python312\\lib\\site-packages (from ibm_watson) (1.8.0)\n",
      "Collecting ibm-cloud-sdk-core==3.*,>=3.3.6 (from ibm_watson)\n",
      "  Downloading ibm-cloud-sdk-core-3.20.1.tar.gz (62 kB)\n",
      "     ---------------------------------------- 0.0/62.1 kB ? eta -:--:--\n",
      "     ---------------------------------------- 62.1/62.1 kB 1.7 MB/s eta 0:00:00\n",
      "  Installing build dependencies: started\n",
      "  Installing build dependencies: finished with status 'done'\n",
      "  Getting requirements to build wheel: started\n",
      "  Getting requirements to build wheel: finished with status 'done'\n",
      "  Preparing metadata (pyproject.toml): started\n",
      "  Preparing metadata (pyproject.toml): finished with status 'done'\n",
      "Requirement already satisfied: urllib3<3.0.0,>=2.1.0 in c:\\users\\chief oggy\\appdata\\local\\programs\\python\\python312\\lib\\site-packages (from ibm-cloud-sdk-core==3.*,>=3.3.6->ibm_watson) (2.1.0)\n",
      "Collecting PyJWT<3.0.0,>=2.8.0 (from ibm-cloud-sdk-core==3.*,>=3.3.6->ibm_watson)\n",
      "  Downloading PyJWT-2.8.0-py3-none-any.whl.metadata (4.2 kB)\n",
      "Requirement already satisfied: six>=1.5 in c:\\users\\chief oggy\\appdata\\local\\programs\\python\\python312\\lib\\site-packages (from python-dateutil>=2.5.3->ibm_watson) (1.16.0)\n",
      "Requirement already satisfied: charset-normalizer<4,>=2 in c:\\users\\chief oggy\\appdata\\local\\programs\\python\\python312\\lib\\site-packages (from requests<3.0,>=2.0->ibm_watson) (3.3.2)\n",
      "Requirement already satisfied: idna<4,>=2.5 in c:\\users\\chief oggy\\appdata\\local\\programs\\python\\python312\\lib\\site-packages (from requests<3.0,>=2.0->ibm_watson) (3.4)\n",
      "Requirement already satisfied: certifi>=2017.4.17 in c:\\users\\chief oggy\\appdata\\local\\programs\\python\\python312\\lib\\site-packages (from requests<3.0,>=2.0->ibm_watson) (2023.7.22)\n",
      "Downloading PyJWT-2.8.0-py3-none-any.whl (22 kB)\n",
      "Building wheels for collected packages: ibm_watson, ibm-cloud-sdk-core\n",
      "  Building wheel for ibm_watson (pyproject.toml): started\n",
      "  Building wheel for ibm_watson (pyproject.toml): finished with status 'done'\n",
      "  Created wheel for ibm_watson: filename=ibm_watson-8.1.0-py3-none-any.whl size=402571 sha256=3316cd46c0da00ac6537fa1ada106443153604ab43429f12dd5099b2a4a12424\n",
      "  Stored in directory: c:\\users\\chief oggy\\appdata\\local\\pip\\cache\\wheels\\02\\3e\\3a\\0c5124f4a612f807c048930fd413f5b9994067c29975ddae5b\n",
      "  Building wheel for ibm-cloud-sdk-core (pyproject.toml): started\n",
      "  Building wheel for ibm-cloud-sdk-core (pyproject.toml): finished with status 'done'\n",
      "  Created wheel for ibm-cloud-sdk-core: filename=ibm_cloud_sdk_core-3.20.1-py3-none-any.whl size=101546 sha256=ae811825fc06b9682a39a84b37cb0706a3b145c37e39e2a8d11c19b7ea4a3f4f\n",
      "  Stored in directory: c:\\users\\chief oggy\\appdata\\local\\pip\\cache\\wheels\\91\\30\\e1\\c78aa18443f309979a8334f4826fd31e999b88aa7dc13469b1\n",
      "Successfully built ibm_watson ibm-cloud-sdk-core\n",
      "Installing collected packages: PyJWT, ibm-cloud-sdk-core, ibm_watson\n",
      "Successfully installed PyJWT-2.8.0 ibm-cloud-sdk-core-3.20.1 ibm_watson-8.1.0\n"
     ]
    },
    {
     "name": "stderr",
     "output_type": "stream",
     "text": [
      "\n",
      "[notice] A new release of pip is available: 24.0 -> 24.1.1\n",
      "[notice] To update, run: python.exe -m pip install --upgrade pip\n"
     ]
    }
   ],
   "source": [
    "! pip install ibm_watson"
   ]
  },
  {
   "cell_type": "markdown",
   "id": "519b1ea9-c6c1-4f6c-9ab7-9c30bb621428",
   "metadata": {},
   "source": [
    "# Authentication"
   ]
  },
  {
   "cell_type": "code",
   "execution_count": null,
   "id": "7e7d07bf-bfcc-4066-9336-6c1284c80594",
   "metadata": {},
   "outputs": [],
   "source": []
  },
  {
   "cell_type": "markdown",
   "id": "72b5b4dc-0fd8-46e6-9d88-e132bf647f8a",
   "metadata": {},
   "source": [
    "# Translate"
   ]
  },
  {
   "cell_type": "code",
   "execution_count": null,
   "id": "924960c8-49a9-4ac6-a3fe-d8ce343b53cc",
   "metadata": {},
   "outputs": [],
   "source": []
  },
  {
   "cell_type": "markdown",
   "id": "97e0c4f1-88d6-47d8-a2c6-ef8141c38e8b",
   "metadata": {},
   "source": [
    "# Identify Language"
   ]
  },
  {
   "cell_type": "code",
   "execution_count": null,
   "id": "fcac0c77-1c5d-400a-8ec0-9e28d1458f1d",
   "metadata": {},
   "outputs": [],
   "source": []
  },
  {
   "cell_type": "markdown",
   "id": "8c44c6da-f6e0-4e2f-bb13-53cbc2d49a53",
   "metadata": {},
   "source": [
    "# AI Travel Guide"
   ]
  },
  {
   "cell_type": "code",
   "execution_count": null,
   "id": "9918d6f0-451e-41d4-8b83-da68a6a759f9",
   "metadata": {},
   "outputs": [],
   "source": []
  }
 ],
 "metadata": {
  "kernelspec": {
   "display_name": "Python 3 (ipykernel)",
   "language": "python",
   "name": "python3"
  },
  "language_info": {
   "codemirror_mode": {
    "name": "ipython",
    "version": 3
   },
   "file_extension": ".py",
   "mimetype": "text/x-python",
   "name": "python",
   "nbconvert_exporter": "python",
   "pygments_lexer": "ipython3",
   "version": "3.12.0"
  }
 },
 "nbformat": 4,
 "nbformat_minor": 5
}
